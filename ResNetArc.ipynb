{
  "nbformat": 4,
  "nbformat_minor": 0,
  "metadata": {
    "colab": {
      "provenance": [],
      "authorship_tag": "ABX9TyMh0MrU8Y02a0XUK34dNhMs",
      "include_colab_link": true
    },
    "kernelspec": {
      "name": "python3",
      "display_name": "Python 3"
    },
    "language_info": {
      "name": "python"
    }
  },
  "cells": [
    {
      "cell_type": "markdown",
      "metadata": {
        "id": "view-in-github",
        "colab_type": "text"
      },
      "source": [
        "<a href=\"https://colab.research.google.com/github/usmn777/RESNET/blob/main/ResNetArc.ipynb\" target=\"_parent\"><img src=\"https://colab.research.google.com/assets/colab-badge.svg\" alt=\"Open In Colab\"/></a>"
      ]
    },
    {
      "cell_type": "code",
      "execution_count": 1,
      "metadata": {
        "id": "fT5P8jiqYQVm"
      },
      "outputs": [],
      "source": [
        "import torch\n",
        "import torch.nn as nn"
      ]
    },
    {
      "cell_type": "code",
      "source": [
        "class block(nn.Module):\n",
        "  def __init__(self,in_channels,intermediate_channels,identity_downsample=None,stride=1):\n",
        "    super(block,self).__init__()\n",
        "    self.expansion = 4\n",
        "    self.conv1 = nn.Conv2d(in_channels,intermediate_channels,kernel_size =1, stride = 1,padding = 0, bias = False)\n",
        "    self.bn1 = nn.BatchNorm2d(intermediate_channels)\n",
        "    self.conv2 = nn.Conv2d(intermediate_channels, intermediate_channels, kernel_size=3, stride = stride, padding = 1, bias = False)\n",
        "    self.bn2 = nn.BatchNorm2d(intermediate_channels)\n",
        "    self.conv3 = nn.Conv2d(intermediate_channels,intermediate_channels * self.expansion,kernel_size = 1, stride=1,padding=0, bias=False)\n",
        "    self.bn3=nn.BatchNorm2d(intermediate_channels * self.expansion)\n",
        "    self.relu=nn.ReLU()\n",
        "    self.identity_downsample = identity_downsample\n",
        "    self.stride = stride"
      ],
      "metadata": {
        "id": "zi-rUvl1YX2V"
      },
      "execution_count": 2,
      "outputs": []
    },
    {
      "cell_type": "code",
      "source": [
        "def forward(self,x):\n",
        "  identity = x.clone()\n",
        "  x = self.conv1(x)\n",
        "  x = self.bn1(x)\n",
        "  x = self.relu(x)\n",
        "  x= self.conv2(x)\n",
        "  x = self.bn2(x)\n",
        "  x = self.relu(x)\n",
        "  x = self.conv3(x)\n",
        "  x = self.bn3(x)\n",
        "  if self.identity_downsample is not None:\n",
        "    identity = self.identity_downsample(identity)\n",
        "  x += identity\n",
        "  x = self.relu(x)\n",
        "  return x"
      ],
      "metadata": {
        "id": "F78mZFOrYbwT"
      },
      "execution_count": 3,
      "outputs": []
    },
    {
      "cell_type": "code",
      "source": [
        "class ResNet(nn.Module):\n",
        "  def __init__(self,block,layers,image_channels,num_classes):\n",
        "    super(ResNet,self).__init__()\n",
        "    self.in_channels = 64\n",
        "    self.conv1 = nn.Conv2d(image_channels,64,kernel_size=7, stride=2,bias=False)\n",
        "    self.bn1 = nn.BatchNorm2d(64)\n",
        "    self.relu= nn.Relu()\n",
        "    self.maxpool = nn.MaxPool2d(kernel_size=3,stride=2,padding=1)\n",
        "    self.layer1 = self._make_layer(block,layers[0],intermediate_channels=64,stride=1)\n",
        "    self.layer2 = self._make_layer(block,layers[1],intermediate_channels=128, stride=2)\n",
        "    self.layer3 = self._make_layer(block,layers[2],intermediate_channels=256,stride=2)\n",
        "    self.layer4 = self._make_layer(block,layers[3],intermediate_channels=512,stride=2)\n",
        "    self.avgpool = nn.AdaptiveAvgPool2d(1,1)\n",
        "    self.fc = nn.Linear(512 * 4 * num_classes)"
      ],
      "metadata": {
        "id": "GzlZedq5YfgE"
      },
      "execution_count": 4,
      "outputs": []
    }
  ]
}